{
 "cells": [
  {
   "cell_type": "markdown",
   "id": "23376085-c3cf-4947-9409-906bacac9614",
   "metadata": {},
   "source": [
    "Q1. Which function is used to open a file? What are the different modes of opening a file? Explain each mode\n",
    "of file opening."
   ]
  },
  {
   "cell_type": "markdown",
   "id": "538ff45a-9a60-4ee9-b2fb-14d354903e00",
   "metadata": {},
   "source": [
    "#### In most programming languages, the function used to open a file is typically called open(). \n",
    "\n",
    "#### The different modes of opening a file and their meanings:\n",
    "\n",
    "#### 1) Read Mode (\"r\"): This is the default mode and is used to open a file for reading. In this mode, the file pointer is positioned at the beginning of the file. If the file doesn't exist, it will result in an error. Example: open(\"example.txt\", \"r\").\n",
    "\n",
    "#### 2) Write Mode (\"w\"): This mode is used to open a file for writing. If the file exists, it gets truncated (emptied). If the file doesn't exist, a new file is created. Example: open(\"example.txt\", \"w\").\n",
    "\n",
    "#### 3) Append Mode (\"a\"): This mode is used to open a file for appending data. The file pointer is positioned at the end of the file. If the file doesn't exist, a new file is created. Example: open(\"example.txt\", \"a\").\n",
    "\n",
    "#### 4) Binary Mode (\"b\"): This mode is used in conjunction with the above modes (\"r\", \"w\", or \"a\") to open a file in binary mode. It is used when working with non-text files like images, audio, or binary data. Example: open(\"example.bin\", \"rb\").\n",
    "\n",
    "#### 5) Update Mode (\"+\"): This mode allows both reading and writing to a file. It can be added to any of the above modes to provide the ability to perform both operations. Example: open(\"example.txt\", \"r+\").\n",
    "\n",
    "\n",
    "#### 6) Exclusive Creation Mode (\"x\"): This mode is used to open a file exclusively for writing. If the file already exists, it will result in an error. Example: open(\"example.txt\", \"x\").\n"
   ]
  },
  {
   "cell_type": "markdown",
   "id": "7a113f56-52c9-4737-840a-ffa8b99b7848",
   "metadata": {},
   "source": [
    "Q2. Why close() function is used? Why is it important to close a file?"
   ]
  },
  {
   "cell_type": "markdown",
   "id": "5b323a1f-3207-4ecd-9403-fffec772b335",
   "metadata": {},
   "source": [
    "#### The close() function is used to close an open file. It is an important practice to explicitly close a file after we have finished working with it. When we open a file, the operating system assigns system resources to keep track of the file and its associated data. Closing the file releases these resources, ensuring that they can be used by other programs or processes."
   ]
  },
  {
   "cell_type": "markdown",
   "id": "e1ef09c0-0215-475b-b6ff-65698f597ac6",
   "metadata": {},
   "source": [
    "#### Here are some reasons why it is important to close a file:\n",
    "\n",
    "#### 1) Release system resources: When a file is opened, the operating system allocates system resources to handle the file operations. These resources include memory buffers, file descriptors, and other internal structures. By closing the file, you release these resources, preventing resource leaks and improving overall system performance.\n",
    "\n",
    "#### 2) Flush data to disk: When you write to a file, the data is often buffered in memory before being physically written to the disk. Closing the file ensures that any pending data in the buffer is flushed and written to the disk. If you don't close the file, the data may remain in the buffer and not be written, leading to potential data loss or incomplete file writes.\n",
    "\n",
    "#### 3) Avoid data corruption: Closing a file properly helps to avoid data corruption issues. If a file is not closed correctly, and there are pending write operations, the data may not be fully written or saved to the disk. This can result in corrupted or incomplete files."
   ]
  },
  {
   "cell_type": "markdown",
   "id": "904e23b9-6828-49e6-bae6-6a2a48037696",
   "metadata": {},
   "source": [
    "Q3. Write a python program to create a text file. Write ‘I want to become a Data Scientist’ in that file. Then\n",
    "close the file. Open this file and read the content of the file."
   ]
  },
  {
   "cell_type": "code",
   "execution_count": 1,
   "id": "041b30a2-819d-40cd-a8cb-7a64b7a03efb",
   "metadata": {},
   "outputs": [],
   "source": [
    "f=open(\"test.txt\",\"w\")"
   ]
  },
  {
   "cell_type": "code",
   "execution_count": 2,
   "id": "31170aa1-5cbe-4aab-94af-7a280d5aca4b",
   "metadata": {},
   "outputs": [
    {
     "data": {
      "text/plain": [
       "33"
      ]
     },
     "execution_count": 2,
     "metadata": {},
     "output_type": "execute_result"
    }
   ],
   "source": [
    "f.write(\"I want to become a Data Scientist\")"
   ]
  },
  {
   "cell_type": "code",
   "execution_count": 3,
   "id": "ec2a35bd-cf35-49af-9d86-33b01551a4aa",
   "metadata": {},
   "outputs": [],
   "source": [
    "f.close()"
   ]
  },
  {
   "cell_type": "code",
   "execution_count": 4,
   "id": "81a6c8af-3e9f-4239-babb-fc5ce9a103fa",
   "metadata": {},
   "outputs": [],
   "source": [
    "data=open(\"test.txt\",\"r\")"
   ]
  },
  {
   "cell_type": "code",
   "execution_count": 5,
   "id": "5dce274a-32bb-4c43-8623-ab6782772f92",
   "metadata": {},
   "outputs": [
    {
     "data": {
      "text/plain": [
       "'I want to become a Data Scientist'"
      ]
     },
     "execution_count": 5,
     "metadata": {},
     "output_type": "execute_result"
    }
   ],
   "source": [
    "data.read()"
   ]
  },
  {
   "cell_type": "code",
   "execution_count": 6,
   "id": "3d9cd4e6-edbc-4df4-bc6b-266ea189a291",
   "metadata": {},
   "outputs": [
    {
     "data": {
      "text/plain": [
       "''"
      ]
     },
     "execution_count": 6,
     "metadata": {},
     "output_type": "execute_result"
    }
   ],
   "source": [
    "data.read()"
   ]
  },
  {
   "cell_type": "markdown",
   "id": "f5deb3e5-d3fe-4bc6-8823-894a4b8f1d1f",
   "metadata": {},
   "source": [
    "Q4. Explain the following with python code: read(), readline() and readlines()."
   ]
  },
  {
   "cell_type": "markdown",
   "id": "c655a529-94f6-476e-a5cf-8c507e74b23b",
   "metadata": {},
   "source": [
    "### read() method:\n",
    "The read() method is used to read the entire contents of a file. It returns a string containing the data read from the file."
   ]
  },
  {
   "cell_type": "code",
   "execution_count": 14,
   "id": "af9583f3-3596-4a05-b8ab-59e1ffcfcac8",
   "metadata": {},
   "outputs": [],
   "source": [
    "f1=open(\"my_file.txt\",\"w\")"
   ]
  },
  {
   "cell_type": "code",
   "execution_count": 15,
   "id": "fbc8172f-0cd2-4c0d-8a58-356b8929de47",
   "metadata": {},
   "outputs": [
    {
     "data": {
      "text/plain": [
       "22"
      ]
     },
     "execution_count": 15,
     "metadata": {},
     "output_type": "execute_result"
    }
   ],
   "source": [
    "f1.write(\"This is my first file.\")"
   ]
  },
  {
   "cell_type": "code",
   "execution_count": 16,
   "id": "2113a914-7403-4e50-b88d-33538aa6e804",
   "metadata": {},
   "outputs": [],
   "source": [
    "f1.close()"
   ]
  },
  {
   "cell_type": "code",
   "execution_count": 17,
   "id": "b8591ce5-0dbc-434d-9de8-0ae5baa50f90",
   "metadata": {},
   "outputs": [],
   "source": [
    "d1=open(\"my_file.txt\",\"r\")"
   ]
  },
  {
   "cell_type": "code",
   "execution_count": 18,
   "id": "e0bad68b-4943-4a39-804e-b98af1c93f61",
   "metadata": {},
   "outputs": [
    {
     "data": {
      "text/plain": [
       "'This is my first file.'"
      ]
     },
     "execution_count": 18,
     "metadata": {},
     "output_type": "execute_result"
    }
   ],
   "source": [
    "d1.read()"
   ]
  },
  {
   "cell_type": "code",
   "execution_count": 26,
   "id": "dd748550-834b-4fbf-8eef-54714799e9ce",
   "metadata": {},
   "outputs": [
    {
     "data": {
      "text/plain": [
       "0"
      ]
     },
     "execution_count": 26,
     "metadata": {},
     "output_type": "execute_result"
    }
   ],
   "source": [
    "d1.seek(0)"
   ]
  },
  {
   "cell_type": "markdown",
   "id": "d9c231ad-f5b7-43ed-a616-79615bf33260",
   "metadata": {},
   "source": [
    "#### readline() method:\n",
    "The readline() method is used to read a single line from a file. Each time you call readline(), it returns the next line in the file.\n"
   ]
  },
  {
   "cell_type": "code",
   "execution_count": 54,
   "id": "b1f12c31-4050-4cce-ab33-2dc9e9909de3",
   "metadata": {},
   "outputs": [],
   "source": [
    "f2=open(\"my_file1.txt\",\"w\")"
   ]
  },
  {
   "cell_type": "code",
   "execution_count": 55,
   "id": "8f27c6b3-02b4-4335-a142-0e9c2790ebf6",
   "metadata": {},
   "outputs": [
    {
     "data": {
      "text/plain": [
       "205"
      ]
     },
     "execution_count": 55,
     "metadata": {},
     "output_type": "execute_result"
    }
   ],
   "source": [
    "f2.write(\" Python is the best programming language in the world in 2020. \\n \"\n",
    "        \" Edureka is the biggest Ed-tech platform to learn python. \\n \"\n",
    "        \" Python programming is as easy as writing a program in simple English language .\")"
   ]
  },
  {
   "cell_type": "code",
   "execution_count": 56,
   "id": "cff93608-83fb-4a2f-9e21-839a5de27eab",
   "metadata": {},
   "outputs": [],
   "source": [
    "f2.close()"
   ]
  },
  {
   "cell_type": "code",
   "execution_count": 57,
   "id": "33739b1a-fa3a-4c13-b1c2-b164385eafa0",
   "metadata": {},
   "outputs": [],
   "source": [
    "d2=open(\"my_file1.txt\",\"r\")"
   ]
  },
  {
   "cell_type": "code",
   "execution_count": 58,
   "id": "084932f1-6e49-4368-ad59-28b5c704aa3f",
   "metadata": {},
   "outputs": [
    {
     "name": "stdout",
     "output_type": "stream",
     "text": [
      " Python is the best programming language in the world in 2020. \n",
      "\n"
     ]
    }
   ],
   "source": [
    "line1=d2.readline()\n",
    "print(line1)"
   ]
  },
  {
   "cell_type": "code",
   "execution_count": 59,
   "id": "3a4621cb-933d-46d5-98d7-dd0c482966cb",
   "metadata": {},
   "outputs": [
    {
     "name": "stdout",
     "output_type": "stream",
     "text": [
      "  Edureka is the biggest Ed-tech platform to learn python. \n",
      "\n"
     ]
    }
   ],
   "source": [
    "line2=d2.readline()\n",
    "print(line2)"
   ]
  },
  {
   "cell_type": "markdown",
   "id": "6d21a4e6-c993-4ec4-9894-25943a579c38",
   "metadata": {},
   "source": [
    "#### readlines() method:\n",
    "The readlines() method is used to read all lines from a file and returns them as a list of strings. Each element in the list represents a line from the file.\n"
   ]
  },
  {
   "cell_type": "code",
   "execution_count": 70,
   "id": "1186fcaf-b8aa-4f71-bf48-7c40a6a4cc57",
   "metadata": {},
   "outputs": [],
   "source": [
    "f3=open(\"my_file1.txt\",\"w\")"
   ]
  },
  {
   "cell_type": "code",
   "execution_count": 71,
   "id": "e34b356c-c5bb-4eae-a2c8-b92fe0577f5d",
   "metadata": {},
   "outputs": [
    {
     "data": {
      "text/plain": [
       "208"
      ]
     },
     "execution_count": 71,
     "metadata": {},
     "output_type": "execute_result"
    }
   ],
   "source": [
    "f3.write(\"  Python is the best programming language in the world in 2020 . \\n \"\n",
    "         \" Edureka is the biggest Ed-tech platform to learn python . \\n\"\n",
    "         \" Python programming is as easy as writing a program in simple English language .\\n\")"
   ]
  },
  {
   "cell_type": "code",
   "execution_count": 72,
   "id": "84779c85-8f68-4526-bedf-fc895a716f57",
   "metadata": {},
   "outputs": [],
   "source": [
    "f3.close()"
   ]
  },
  {
   "cell_type": "code",
   "execution_count": 73,
   "id": "9a7c8eea-0c3d-44ea-9193-5bf42398950f",
   "metadata": {},
   "outputs": [],
   "source": [
    "d3=open(\"my_file1.txt\",\"r\")"
   ]
  },
  {
   "cell_type": "code",
   "execution_count": 74,
   "id": "721d90b5-d974-4882-ae48-75f4cc34432c",
   "metadata": {},
   "outputs": [],
   "source": [
    "lines=d3.readlines()"
   ]
  },
  {
   "cell_type": "code",
   "execution_count": 75,
   "id": "9009d157-ac8e-4c7b-9887-713f29fff90e",
   "metadata": {},
   "outputs": [
    {
     "name": "stdout",
     "output_type": "stream",
     "text": [
      "  Python is the best programming language in the world in 2020 . \n",
      "\n",
      "  Edureka is the biggest Ed-tech platform to learn python . \n",
      "\n",
      " Python programming is as easy as writing a program in simple English language .\n",
      "\n"
     ]
    }
   ],
   "source": [
    "for line in lines:\n",
    "    print(line)"
   ]
  },
  {
   "cell_type": "code",
   "execution_count": 78,
   "id": "bbe393f6-4938-465c-a498-334ea0e28379",
   "metadata": {},
   "outputs": [
    {
     "data": {
      "text/plain": [
       "0"
      ]
     },
     "execution_count": 78,
     "metadata": {},
     "output_type": "execute_result"
    }
   ],
   "source": [
    "d3.seek(0)"
   ]
  },
  {
   "cell_type": "markdown",
   "id": "556c896b-e370-4287-ab45-32eb048a6612",
   "metadata": {},
   "source": [
    "Q5. Explain why with statement is used with open(). What is the advantage of using with statement and\n",
    "open() together?"
   ]
  },
  {
   "cell_type": "markdown",
   "id": "29067402-7a71-4bf9-a38e-02a53f382e96",
   "metadata": {},
   "source": [
    "#### The with statement is used in conjunction with the open() function in Python to provide a clean and efficient way of working with files. It ensures that the file is automatically closed after the associated block of code is executed, even if an exception occurs.\n",
    "\n",
    "#### The advantages of using the with statement with open():\n",
    "\n",
    "#### 1) Automatic resource management: When we use the with statement, the file is automatically closed when the block of code is exited, regardless of how the block is exited. This means we don't have to explicitly call the close() method, reducing the chance of resource leaks or forgetting to close the file.\n",
    "\n",
    "#### 2) Exception handling: The with statement handles exceptions gracefully. If an exception occurs within the block of code, the file is still closed before the exception is propagated, ensuring that resources are properly released. This helps prevent file corruption and data loss in case of exceptions.\n",
    "\n",
    "#### 3) Readability and conciseness: The with statement improves the readability and conciseness of our code. It clearly indicates the scope of file usage and simplifies the cleanup process. By encapsulating the file operations within the with block, the code becomes more organized and easier to understand."
   ]
  },
  {
   "cell_type": "code",
   "execution_count": 5,
   "id": "4b7fb97e-6f2a-4eee-b580-4c934c032733",
   "metadata": {},
   "outputs": [],
   "source": [
    "### e.g \n",
    "with open (\"my.txt\",\"w\") as f:\n",
    "    f.write(\"This is a file\")"
   ]
  },
  {
   "cell_type": "markdown",
   "id": "d2fb3a60-9afe-44a1-bba8-60e96a48a426",
   "metadata": {},
   "source": [
    "#### Overall, using the with statement with open() ensures proper file handling, eliminates the need for explicit close() calls, and provides better code readability and exception handling. "
   ]
  },
  {
   "cell_type": "markdown",
   "id": "c7576604-a103-46e7-b10b-fcfdb7ea5e14",
   "metadata": {},
   "source": [
    "Q6. Explain the write() and writelines() functions. Give a suitable example."
   ]
  },
  {
   "cell_type": "markdown",
   "id": "c7dbc624-e9e9-4c7f-9215-893a9f6493a1",
   "metadata": {},
   "source": [
    "#### write() function:\n",
    "The write() function is used to write a string of data to a file. It appends the specified string to the file's existing content or creates a new file if it doesn't exist."
   ]
  },
  {
   "cell_type": "code",
   "execution_count": 6,
   "id": "f1569348-b667-497f-b991-951ac2de7e88",
   "metadata": {},
   "outputs": [],
   "source": [
    "### e.g\n",
    "file1=open(\"file_txt\",\"w\")"
   ]
  },
  {
   "cell_type": "code",
   "execution_count": 7,
   "id": "d71eef17-9b37-4a54-bf30-2ec25891654a",
   "metadata": {},
   "outputs": [
    {
     "data": {
      "text/plain": [
       "21"
      ]
     },
     "execution_count": 7,
     "metadata": {},
     "output_type": "execute_result"
    }
   ],
   "source": [
    "file1.write(\"Hello, I am Prajakta.\")"
   ]
  },
  {
   "cell_type": "code",
   "execution_count": 8,
   "id": "3472c413-0d84-4287-84eb-7eb55affee4e",
   "metadata": {},
   "outputs": [],
   "source": [
    "file1.close()"
   ]
  },
  {
   "cell_type": "markdown",
   "id": "dbfcb4a7-9af9-4656-90d6-5414cf843e8c",
   "metadata": {},
   "source": [
    "#### writelines() function:\n",
    "The writelines() function is used to write multiple strings to a file. It takes an iterable (such as a list) of strings as input and writes each string to the file."
   ]
  },
  {
   "cell_type": "code",
   "execution_count": 9,
   "id": "4ac65d29-a68f-4f29-97a7-f4b1bae037f1",
   "metadata": {},
   "outputs": [],
   "source": [
    "### e.g\n",
    "file2=open(\"file2_txt\",\"w\")"
   ]
  },
  {
   "cell_type": "code",
   "execution_count": 10,
   "id": "1b01b07f-c989-4a56-a42b-8380431db755",
   "metadata": {},
   "outputs": [],
   "source": [
    "lines=[\"This is first line . \\n\"\n",
    "       \"This is second line. \\n\"\n",
    "       \"This is third line. \\n\"]"
   ]
  },
  {
   "cell_type": "code",
   "execution_count": 11,
   "id": "d8a0f558-a138-4c27-9fc1-0bfb123c4162",
   "metadata": {},
   "outputs": [],
   "source": [
    "file2.writelines(lines)"
   ]
  },
  {
   "cell_type": "code",
   "execution_count": 12,
   "id": "396724f4-b6d1-4163-92b9-1f7531ec1afc",
   "metadata": {},
   "outputs": [],
   "source": [
    "file2.close()"
   ]
  },
  {
   "cell_type": "code",
   "execution_count": null,
   "id": "141c0a90-fc83-4c46-a9d5-33b7f0141f6d",
   "metadata": {},
   "outputs": [],
   "source": []
  }
 ],
 "metadata": {
  "kernelspec": {
   "display_name": "Python 3 (ipykernel)",
   "language": "python",
   "name": "python3"
  },
  "language_info": {
   "codemirror_mode": {
    "name": "ipython",
    "version": 3
   },
   "file_extension": ".py",
   "mimetype": "text/x-python",
   "name": "python",
   "nbconvert_exporter": "python",
   "pygments_lexer": "ipython3",
   "version": "3.10.8"
  }
 },
 "nbformat": 4,
 "nbformat_minor": 5
}
